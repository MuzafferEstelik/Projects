{
 "cells": [
  {
   "cell_type": "markdown",
   "metadata": {},
   "source": [
    "This exercise will require you to pull some data from the Qunadl API. Qaundl is currently the most widely used aggregator of financial market data."
   ]
  },
  {
   "cell_type": "markdown",
   "metadata": {},
   "source": [
    "As a first step, you will need to register a free account on the http://www.quandl.com website."
   ]
  },
  {
   "cell_type": "markdown",
   "metadata": {},
   "source": [
    "After you register, you will be provided with a unique API key, that you should store:"
   ]
  },
  {
   "cell_type": "code",
   "execution_count": 96,
   "metadata": {},
   "outputs": [],
   "source": [
    "# Store the API key as a string - according to PEP8, constants are always named in all upper case\n",
    "API_KEY = '4zX7CA93VkKSEygsbSLv'"
   ]
  },
  {
   "cell_type": "markdown",
   "metadata": {},
   "source": [
    "Qaundl has a large number of data sources, but, unfortunately, most of them require a Premium subscription. Still, there are also a good number of free datasets."
   ]
  },
  {
   "cell_type": "markdown",
   "metadata": {},
   "source": [
    "For this mini project, we will focus on equities data from the Frankfurt Stock Exhange (FSE), which is available for free. We'll try and analyze the stock prices of a company called Carl Zeiss Meditec, which manufactures tools for eye examinations, as well as medical lasers for laser eye surgery: https://www.zeiss.com/meditec/int/home.html. The company is listed under the stock ticker AFX_X."
   ]
  },
  {
   "cell_type": "markdown",
   "metadata": {},
   "source": [
    "You can find the detailed Quandl API instructions here: https://docs.quandl.com/docs/time-series"
   ]
  },
  {
   "cell_type": "markdown",
   "metadata": {},
   "source": [
    "While there is a dedicated Python package for connecting to the Quandl API, we would prefer that you use the *requests* package, which can be easily downloaded using *pip* or *conda*. You can find the documentation for the package here: http://docs.python-requests.org/en/master/ "
   ]
  },
  {
   "cell_type": "markdown",
   "metadata": {},
   "source": [
    "Finally, apart from the *requests* package, you are encouraged to not use any third party Python packages, such as *pandas*, and instead focus on what's available in the Python Standard Library (the *collections* module might come in handy: https://pymotw.com/3/collections/).\n",
    "Also, since you won't have access to DataFrames, you are encouraged to us Python's native data structures - preferably dictionaries, though some questions can also be answered using lists.\n",
    "You can read more on these data structures here: https://docs.python.org/3/tutorial/datastructures.html"
   ]
  },
  {
   "cell_type": "markdown",
   "metadata": {},
   "source": [
    "Keep in mind that the JSON responses you will be getting from the API map almost one-to-one to Python's dictionaries. Unfortunately, they can be very nested, so make sure you read up on indexing dictionaries in the documentation provided above."
   ]
  },
  {
   "cell_type": "code",
   "execution_count": 97,
   "metadata": {},
   "outputs": [],
   "source": [
    "# First, import the relevant modules\n",
    "import requests\n"
   ]
  },
  {
   "cell_type": "code",
   "execution_count": 98,
   "metadata": {},
   "outputs": [
    {
     "name": "stdout",
     "output_type": "stream",
     "text": [
      "['2018-05-16', None, 58.05, 56.9, 57.0, None, 56288.0, 3228216.0, None, None, None]\n"
     ]
    }
   ],
   "source": [
    "# Now, call the Quandl API and pull out a small sample of the data (only one day) to get a glimpse\n",
    "# into the JSON structure that will be returned\n",
    "r = requests.get ('https://www.quandl.com/api/v3/datasets/FSE/AFX_X.json?api_key=4zX7CA93VkKSEygsbSLv')\n",
    "print (r.json()['dataset']['data'][0])"
   ]
  },
  {
   "cell_type": "code",
   "execution_count": 99,
   "metadata": {},
   "outputs": [
    {
     "name": "stdout",
     "output_type": "stream",
     "text": [
      "Column names : ['Date', 'Open', 'High', 'Low', 'Close', 'Change', 'Traded Volume', 'Turnover', 'Last Price of the Day', 'Daily Traded Units', 'Daily Turnover']\n",
      "Type : Time Series\n",
      "Frequency : daily\n",
      "Start Date : 2000-06-07\n",
      "End Date : 2018-05-16\n",
      "First 5 data entries : [['2018-05-16', None, 58.05, 56.9, 57.0, None, 56288.0, 3228216.0, None, None, None], ['2018-05-15', None, 57.65, 55.75, 57.0, None, 100626.0, 5724266.0, None, None, None], ['2018-05-14', None, 57.95, 57.15, 57.8, None, 50399.0, 2905596.0, None, None, None], ['2018-05-11', None, 58.15, 56.95, 57.35, None, 63082.0, 3621924.0, None, None, None], ['2018-05-10', None, 58.15, 57.5, 58.15, None, 20795.0, 1206105.0, None, None, None]]\n"
     ]
    }
   ],
   "source": [
    "# Inspect the JSON structure of the object you created, and take note of how nested it is,\n",
    "# as well as the overall structure\n",
    "print ('Column names :', r.json()['dataset']['column_names'])\n",
    "print ('Type :', r.json()['dataset']['type'])\n",
    "print ('Frequency :', r.json()['dataset']['frequency'])\n",
    "print ('Start Date :', r.json()['dataset']['start_date'])\n",
    "print ('End Date :', r.json()['dataset']['end_date'])\n",
    "print ('First 5 data entries :', r.json()['dataset']['data'][0:5])\n",
    "# data list is being nested according to the column names "
   ]
  },
  {
   "cell_type": "markdown",
   "metadata": {},
   "source": [
    "These are your tasks for this mini project:\n",
    "\n",
    "1. Collect data from the Franfurt Stock Exchange, for the ticker AFX_X, for the whole year 2017 (keep in mind that the date format is YYYY-MM-DD).\n",
    "2. Convert the returned JSON object into a Python dictionary.\n",
    "3. Calculate what the highest and lowest opening prices were for the stock in this period.\n",
    "4. What was the largest change in any one day (based on High and Low price)?\n",
    "5. What was the largest change between any two days (based on Closing Price)?\n",
    "6. What was the average daily trading volume during this year?\n",
    "7. (Optional) What was the median trading volume during this year. (Note: you may need to implement your own function for calculating the median.)"
   ]
  },
  {
   "cell_type": "code",
   "execution_count": 100,
   "metadata": {},
   "outputs": [
    {
     "data": {
      "text/plain": [
       "[['2017-12-29',\n",
       "  51.76,\n",
       "  51.94,\n",
       "  51.45,\n",
       "  51.76,\n",
       "  None,\n",
       "  34640.0,\n",
       "  1792304.0,\n",
       "  None,\n",
       "  None,\n",
       "  None],\n",
       " ['2017-12-28',\n",
       "  51.65,\n",
       "  51.82,\n",
       "  51.43,\n",
       "  51.6,\n",
       "  None,\n",
       "  40660.0,\n",
       "  2099024.0,\n",
       "  None,\n",
       "  None,\n",
       "  None],\n",
       " ['2017-12-27',\n",
       "  51.45,\n",
       "  51.89,\n",
       "  50.76,\n",
       "  51.82,\n",
       "  None,\n",
       "  57452.0,\n",
       "  2957018.0,\n",
       "  None,\n",
       "  None,\n",
       "  None]]"
      ]
     },
     "execution_count": 100,
     "metadata": {},
     "output_type": "execute_result"
    }
   ],
   "source": [
    "#1 Collect data from the Franfurt Stock Exchange, for the ticker AFX_X, for the whole year 2017 \n",
    "#(keep in mind that the date format is YYYY-MM-DD).\n",
    "data= r.json()['dataset']['data']\n",
    "data_2017 = []\n",
    "for entry in data:\n",
    "    if entry[0][0:4] == \"2017\":\n",
    "        data_2017.append(entry)\n",
    "data_2017[0:3]\n",
    "    "
   ]
  },
  {
   "cell_type": "code",
   "execution_count": 101,
   "metadata": {},
   "outputs": [
    {
     "data": {
      "text/plain": [
       "[51.45, 51.89, 50.76, 51.82, None, 57452.0, 2957018.0, None, None, None]"
      ]
     },
     "execution_count": 101,
     "metadata": {},
     "output_type": "execute_result"
    }
   ],
   "source": [
    "#2. Convert the returned JSON object into a Python dictionary.\n",
    "dict={}\n",
    "for entry in data:\n",
    "    dict.update({entry[0]:entry[1:11]})\n",
    "    \n",
    "dict['2017-12-27']\n",
    "    "
   ]
  },
  {
   "cell_type": "code",
   "execution_count": 102,
   "metadata": {},
   "outputs": [
    {
     "data": {
      "text/plain": [
       "(59.15, 4.05)"
      ]
     },
     "execution_count": 102,
     "metadata": {},
     "output_type": "execute_result"
    }
   ],
   "source": [
    "#3. Calculate what the highest and lowest opening prices were for the stock in this period.\n",
    "highs = []\n",
    "lows = []\n",
    "for entry in data:\n",
    "    if entry[2] is not None:\n",
    "        highs.append(entry[2])\n",
    "    if entry[3] is not None:\n",
    "        lows.append(entry[3])\n",
    "highest = max (highs)\n",
    "lowest = min (lows)\n",
    "highest, lowest"
   ]
  },
  {
   "cell_type": "code",
   "execution_count": 103,
   "metadata": {},
   "outputs": [
    {
     "data": {
      "text/plain": [
       "4.389999999999997"
      ]
     },
     "execution_count": 103,
     "metadata": {},
     "output_type": "execute_result"
    }
   ],
   "source": [
    "#4. What was the largest change in any one day (based on High and Low price)?\n",
    "# We can loop through our data checking None values \n",
    "changes=[]\n",
    "for entry in data:\n",
    "    if (entry[2] is not None) and (entry[3] is not None):\n",
    "        changes.append(entry[2]-entry[3])\n",
    "    \n",
    "max(changes)"
   ]
  },
  {
   "cell_type": "code",
   "execution_count": 119,
   "metadata": {},
   "outputs": [
    {
     "data": {
      "text/plain": [
       "7.0"
      ]
     },
     "execution_count": 119,
     "metadata": {},
     "output_type": "execute_result"
    }
   ],
   "source": [
    "#5. What was the largest change between any two days (based on Closing Price)?\n",
    "close_price=[]\n",
    "changes_btwndays=[]\n",
    "data.sort()\n",
    "#making a list of closing prices\n",
    "for entry in data:\n",
    "    if entry[4] is not None:\n",
    "        close_price.append(entry[4])\n",
    "#making another list of closing price differences between two days \n",
    "for nr in range(len(close_price)-1):\n",
    "    changes_btwndays.append(close_price[nr+1]-close_price[nr])\n",
    "\n",
    "max(changes_btwndays)"
   ]
  },
  {
   "cell_type": "code",
   "execution_count": 128,
   "metadata": {},
   "outputs": [
    {
     "data": {
      "text/plain": [
       "82960.29545454546"
      ]
     },
     "execution_count": 128,
     "metadata": {},
     "output_type": "execute_result"
    }
   ],
   "source": [
    "#6. What was the average daily trading volume during this year?\n",
    "#let's gather the data of 2018 first\n",
    "data_2018 = []\n",
    "for entry in data:\n",
    "    if entry[0][0:4] == \"2018\":\n",
    "        data_2018.append(entry)\n",
    "#now making a list of traded volumes\n",
    "traded_volumes = []\n",
    "for entry in data_2018:\n",
    "    traded_volumes.append(entry[6])\n",
    "\n",
    "#Calculating the average with Python's native structure \n",
    "avg_traded_volumes = sum(traded_volumes)/float(len(traded_volumes))\n",
    "avg_traded_volumes"
   ]
  },
  {
   "cell_type": "code",
   "execution_count": 129,
   "metadata": {},
   "outputs": [
    {
     "data": {
      "text/plain": [
       "70294.0"
      ]
     },
     "execution_count": 129,
     "metadata": {},
     "output_type": "execute_result"
    }
   ],
   "source": [
    "#7. (Optional) What was the median trading volume during this year. \n",
    "def median(lst):\n",
    "    n = len(lst)\n",
    "    if n < 1:\n",
    "            return None\n",
    "    if n % 2 == 1:\n",
    "            return sorted(lst)[n//2]\n",
    "    else:\n",
    "            return sum(sorted(lst)[n//2-1:n//2+1])/2.0\n",
    "\n",
    "median(traded_volumes)"
   ]
  }
 ],
 "metadata": {
  "kernelspec": {
   "display_name": "Python 3",
   "language": "python",
   "name": "python3"
  },
  "language_info": {
   "codemirror_mode": {
    "name": "ipython",
    "version": 3
   },
   "file_extension": ".py",
   "mimetype": "text/x-python",
   "name": "python",
   "nbconvert_exporter": "python",
   "pygments_lexer": "ipython3",
   "version": "3.6.4"
  }
 },
 "nbformat": 4,
 "nbformat_minor": 2
}
